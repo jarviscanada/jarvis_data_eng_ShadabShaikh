﻿{
  "metadata": {
    "name": "Jarvis Hive Project",
    "kernelspec": {
      "language": "scala",
      "name": "spark2-scala"
    },
    "language_info": {
      "codemirror_mode": "text/x-scala",
      "file_extension": ".scala",
      "mimetype": "text/x-scala",
      "name": "scala",
      "pygments_lexer": "scala"
    }
  },
  "nbformat": 4,
  "nbformat_minor": 2,
  "cells": [
    {
      "cell_type": "markdown",
      "metadata": {},
      "source": "# Work with wdi data by importing into tables, storing in HDFS and apply Hadoop MapReduce in order to solve queries."
    },
    {
      "cell_type": "markdown",
      "metadata": {},
      "source": "# Query GS data\n- Create a hive table (`wdi_gs`) against the gs wdi_2016 data.\n- Count number of rows from the wdi_gs table\n"
    },
    {
      "cell_type": "code",
      "execution_count": 2,
      "metadata": {
        "autoscroll": "auto"
      },
      "outputs": [],
      "source": "DROP TABLE IF EXISTS wdi_gs"
    },
    {
      "cell_type": "code",
      "execution_count": 3,
      "metadata": {
        "autoscroll": "auto"
      },
      "outputs": [],
      "source": "CREATE EXTERNAL TABLE wdi_gs\n(year INTEGER, countryName STRING, countryCode STRING, indicatorName STRING, indicatorCode STRING, indicatorValue FLOAT)\nROW FORMAT DELIMITED FIELDS TERMINATED BY \u0027,\u0027 LINES TERMINATED BY \u0027\\n\u0027\nLOCATION \u0027gs://jarvis_data_eng_shadab/datasets/wdi_2016\u0027\nTBLPROPERTIES (\"skip.header.line.count\"\u003d\"1\")"
    },
    {
      "cell_type": "code",
      "execution_count": 4,
      "metadata": {
        "autoscroll": "auto"
      },
      "outputs": [],
      "source": "-- show table meta data\nDESCRIBE FORMATTED  wdi_gs"
    },
    {
      "cell_type": "code",
      "execution_count": 5,
      "metadata": {
        "autoscroll": "auto"
      },
      "outputs": [],
      "source": "-- Count countries\nSELECT count(countryName) as count FROM wdi_gs"
    },
    {
      "cell_type": "markdown",
      "metadata": {},
      "source": "Clear caches."
    },
    {
      "cell_type": "code",
      "execution_count": 7,
      "metadata": {
        "autoscroll": "auto"
      },
      "outputs": [],
      "source": "%sh\n\ncd ~\nhdfs dfs -get hdfs:///user/sshaikh/hive/wdi/wdi_csv_text .\ncd wdi_csv_text\n\ndu -ch .\n\necho 3 | sudo tee /proc/sys/vm/drop_caches\ndate +%s \u0026\u0026 cat * | wc \u0026\u0026 date +%s"
    },
    {
      "cell_type": "markdown",
      "metadata": {},
      "source": "### Parsing data"
    },
    {
      "cell_type": "markdown",
      "metadata": {},
      "source": "Show distinct indicatorCodes to understand how the column was parsed."
    },
    {
      "cell_type": "code",
      "execution_count": 10,
      "metadata": {
        "autoscroll": "auto"
      },
      "outputs": [],
      "source": "SELECT distinct(indicatorcode)\nFROM wdi_csv_text\nORDER BY indicatorcode\nLIMIT 20"
    },
    {
      "cell_type": "code",
      "execution_count": 11,
      "metadata": {
        "autoscroll": "auto"
      },
      "outputs": [],
      "source": "SELECT * \nFROM wdi_csv_text\nLIMIT 10"
    },
    {
      "cell_type": "markdown",
      "metadata": {},
      "source": "Due to the fact that we are delimiting columns by commas the indicator name is spilling over to the indicatorcode value. In order to see this parsing issue another table will be created `wdi_gs_debg` without any SerDe parsing."
    },
    {
      "cell_type": "code",
      "execution_count": 13,
      "metadata": {
        "autoscroll": "auto"
      },
      "outputs": [],
      "source": "DROP TABLE IF EXISTS wdi_gs_debug;"
    },
    {
      "cell_type": "code",
      "execution_count": 14,
      "metadata": {
        "autoscroll": "auto"
      },
      "outputs": [],
      "source": "CREATE EXTERNAL TABLE wdi_gs_debug (fullLine STRING)\nLOCATION \u0027gs://jarvis_data_eng_shadab/datasets/wdi_2016\u0027\nTBLPROPERTIES (\"skip.header.line.count\"\u003d\"1\");\n"
    },
    {
      "cell_type": "code",
      "execution_count": 15,
      "metadata": {
        "autoscroll": "auto"
      },
      "outputs": [],
      "source": "SELECT fullLine FROM wdi_gs_debug\nWHERE fullLine like \"%\\(\\% of urban population\\)\\\"%\"\nLIMIT 100"
    },
    {
      "cell_type": "markdown",
      "metadata": {},
      "source": " \nThe query above shows that Indicator name is being parsed as indicator code because of the SerDe delimiter looking for commas. Let\u0027s apply OpenCSVSerde which better parses the columns."
    },
    {
      "cell_type": "code",
      "execution_count": 17,
      "metadata": {
        "autoscroll": "auto"
      },
      "outputs": [],
      "source": "DROP TABLE IF EXISTS wdi_opencsv_gs;\n"
    },
    {
      "cell_type": "code",
      "execution_count": 18,
      "metadata": {
        "autoscroll": "auto"
      },
      "outputs": [],
      "source": "CREATE EXTERNAL TABLE wdi_opencsv_gs\n(year INTEGER, countryName STRING, countryCode STRING, indicatorName STRING, indicatorCode STRING, indicatorValue FLOAT)\nROW FORMAT SERDE \u0027org.apache.hadoop.hive.serde2.OpenCSVSerde\u0027\nWITH SERDEPROPERTIES (\n   \"separatorChar\" \u003d \",\"\n)  \nSTORED AS TEXTFILE\nLOCATION \u0027gs://jarvis_data_eng_shadab/datasets/wdi_2016\u0027\nTBLPROPERTIES (\"skip.header.line.count\"\u003d\"1\");"
    },
    {
      "cell_type": "code",
      "execution_count": 19,
      "metadata": {
        "autoscroll": "auto"
      },
      "outputs": [],
      "source": "DROP TABLE IF EXISTS wdi_opencsv_text;"
    },
    {
      "cell_type": "code",
      "execution_count": 20,
      "metadata": {
        "autoscroll": "auto"
      },
      "outputs": [],
      "source": "CREATE EXTERNAL TABLE wdi_opencsv_text\n(year INTEGER, countryName STRING, countryCode STRING, indicatorName STRING, indicatorCode STRING, indicatorValue FLOAT)\nROW FORMAT SERDE \u0027org.apache.hadoop.hive.serde2.OpenCSVSerde\u0027\nWITH SERDEPROPERTIES (\n   \"separatorChar\" \u003d \",\"\n)  \nSTORED AS TEXTFILE\nLOCATION \u0027hdfs:///user/sshaikh/hive/wdi/wdi_opencsv_text\u0027;"
    },
    {
      "cell_type": "code",
      "execution_count": 21,
      "metadata": {
        "autoscroll": "auto"
      },
      "outputs": [],
      "source": "INSERT OVERWRITE TABLE wdi_opencsv_text\nSELECT * FROM wdi_opencsv_gs"
    },
    {
      "cell_type": "markdown",
      "metadata": {},
      "source": " \n### Verify parsing"
    },
    {
      "cell_type": "code",
      "execution_count": 23,
      "metadata": {
        "autoscroll": "auto"
      },
      "outputs": [],
      "source": "SELECT distinct(indicatorcode)\nFROM wdi_opencsv_text\nORDER BY indicatorcode\nLIMIT 20;\n"
    },
    {
      "cell_type": "markdown",
      "metadata": {},
      "source": " \n### Comparing execution times"
    },
    {
      "cell_type": "code",
      "execution_count": 25,
      "metadata": {
        "autoscroll": "auto"
      },
      "outputs": [],
      "source": "SELECT count(countryName) FROM wdi_opencsv_text"
    },
    {
      "cell_type": "code",
      "execution_count": 26,
      "metadata": {
        "autoscroll": "auto"
      },
      "outputs": [],
      "source": "SELECT count(countryName) FROM wdi_csv_text"
    },
    {
      "cell_type": "markdown",
      "metadata": {},
      "source": " \n\nThe query against wdi_csv_text performs much faster than against wdi_opencsv_test because it is simply using SerDe and a basic comma delimitation. wdi_opencsv uses OpenCSVSerde which parses the indicator codes properly but also requires more computational overhead for its parsing mechanisms."
    },
    {
      "cell_type": "markdown",
      "metadata": {},
      "source": "### Compare data types between wdi_csv_text and wdi_opencsv_text to see that OpenCSV has all data types as String."
    },
    {
      "cell_type": "code",
      "execution_count": 29,
      "metadata": {
        "autoscroll": "auto"
      },
      "outputs": [],
      "source": "DESCRIBE FORMATTED wdi_opencsv_text \n"
    },
    {
      "cell_type": "code",
      "execution_count": 30,
      "metadata": {
        "autoscroll": "auto"
      },
      "outputs": [],
      "source": "DESCRIBE FORMATTED wdi_csv_text"
    },
    {
      "cell_type": "code",
      "execution_count": 31,
      "metadata": {
        "autoscroll": "auto"
      },
      "outputs": [],
      "source": "DROP VIEW IF EXISTS wdi_opencsv_text_view;"
    },
    {
      "cell_type": "code",
      "execution_count": 32,
      "metadata": {
        "autoscroll": "auto"
      },
      "outputs": [],
      "source": "CREATE VIEW IF NOT EXISTS wdi_opencsv_text_view\nAS\nSELECT CAST (year AS INT), countryName, countryCode, indicatorName, indicatorCode, CAST (indicatorValue AS FLOAT)\nFROM wdi_opencsv_text;"
    },
    {
      "cell_type": "code",
      "execution_count": 33,
      "metadata": {
        "autoscroll": "auto"
      },
      "outputs": [],
      "source": "DESCRIBE FORMATTED wdi_opencsv_text_view"
    },
    {
      "cell_type": "markdown",
      "metadata": {},
      "source": " \n\nTask: Find GDP growth for Canada in 2015.\nTry to see indicator columns which contain GDP information in 2015."
    },
    {
      "cell_type": "code",
      "execution_count": 35,
      "metadata": {
        "autoscroll": "auto"
      },
      "outputs": [],
      "source": "SELECT indicatorName, indicatorValue, year, countryname\nFROM wdi_opencsv_text_view\nWHERE countryname \u003d \"Canada\" AND indicatorname LIKE  \"%GDP%\" AND year \u003d \"2015\""
    },
    {
      "cell_type": "markdown",
      "metadata": {},
      "source": "Narrow down the search terms by the desired indicatorName."
    },
    {
      "cell_type": "code",
      "execution_count": 37,
      "metadata": {
        "autoscroll": "auto"
      },
      "outputs": [],
      "source": "SELECT indicatorValue AS GDP_growth_value, year, countryname\nFROM wdi_opencsv_text_view\nWHERE countryname \u003d \"Canada\" AND indicatorname \u003d \"GDP growth (annual %)\" AND year \u003d \"2015\""
    },
    {
      "cell_type": "markdown",
      "metadata": {},
      "source": "The query takes long to complete due to the numerous where clause conditions which are finding a specific metric in the table. This process can be sped up by taking advantage of partitions."
    },
    {
      "cell_type": "markdown",
      "metadata": {},
      "source": "## Hive Partitioning\nPartion the data by year to speed up the query result. Create a new table called wdi_opencsv_text_partitions. And check the partitions with the ls command."
    },
    {
      "cell_type": "code",
      "execution_count": 40,
      "metadata": {
        "autoscroll": "auto"
      },
      "outputs": [],
      "source": "set hive.exec.dynamic.partition \u003d true"
    },
    {
      "cell_type": "code",
      "execution_count": 41,
      "metadata": {
        "autoscroll": "auto"
      },
      "outputs": [],
      "source": "set hive.exec.dynamic.partition.mode\u003dnonstrict"
    },
    {
      "cell_type": "code",
      "execution_count": 42,
      "metadata": {
        "autoscroll": "auto"
      },
      "outputs": [],
      "source": "DROP TABLE IF EXISTS wdi_opencsv_text_partitions"
    },
    {
      "cell_type": "code",
      "execution_count": 43,
      "metadata": {
        "autoscroll": "auto"
      },
      "outputs": [],
      "source": "CREATE EXTERNAL TABLE wdi_opencsv_text_partitions \n(countryName STRING, countryCode STRING, indicatorName STRING, indicatorCode STRING, indicatorValue FLOAT)\nPARTITIONED BY (year INT)\nROW FORMAT SERDE \u0027org.apache.hadoop.hive.serde2.OpenCSVSerde\u0027\nWITH SERDEPROPERTIES (\n   \"separatorChar\" \u003d \",\"\n)  \nSTORED AS TEXTFILE\nLOCATION \u0027hdfs:///user/sshaikh/hive/wdi/wdi_opencsv_text_partitions\u0027;"
    },
    {
      "cell_type": "code",
      "execution_count": 44,
      "metadata": {
        "autoscroll": "auto"
      },
      "outputs": [],
      "source": "show tables"
    },
    {
      "cell_type": "code",
      "execution_count": 45,
      "metadata": {
        "autoscroll": "auto"
      },
      "outputs": [],
      "source": "FROM wdi_opencsv_text\nINSERT OVERWRITE TABLE wdi_opencsv_text_partitions \nPARTITION(year)\nSELECT countryname, countrycode, indicatorname, indicatorcode, indicatorvalue, year"
    },
    {
      "cell_type": "code",
      "execution_count": 46,
      "metadata": {
        "autoscroll": "auto"
      },
      "outputs": [],
      "source": "SELECT indicatorValue AS GDP_growth_value, year, countryname\nFROM wdi_opencsv_text_partitions\nWHERE countryname \u003d \"Canada\" AND indicatorname \u003d \"GDP growth (annual %)\" AND year \u003d \"2015\""
    },
    {
      "cell_type": "code",
      "execution_count": 47,
      "metadata": {
        "autoscroll": "auto"
      },
      "outputs": [],
      "source": "%sh\nhdfs dfs -ls /user/sshaikh/hive/wdi/wdi_opencsv_text_partitions"
    },
    {
      "cell_type": "markdown",
      "metadata": {},
      "source": " \n## File optimization using Columnar file. Store table as parquet."
    },
    {
      "cell_type": "code",
      "execution_count": 49,
      "metadata": {
        "autoscroll": "auto"
      },
      "outputs": [],
      "source": "DROP TABLE IF EXISTS wdi_csv_parquet"
    },
    {
      "cell_type": "code",
      "execution_count": 50,
      "metadata": {
        "autoscroll": "auto"
      },
      "outputs": [],
      "source": "CREATE EXTERNAL TABLE wdi_csv_parquet\n(year INT, countryName STRING, countryCode STRING, indicatorName STRING, indicatorCode STRING, indicatorValue FLOAT)\nSTORED AS PARQUET\nLOCATION \u0027hdfs:///user/sshaikh/hive/wdi/wdi_opencsv_parquet\u0027;"
    },
    {
      "cell_type": "code",
      "execution_count": 51,
      "metadata": {
        "autoscroll": "auto"
      },
      "outputs": [],
      "source": "INSERT OVERWRITE TABLE wdi_csv_parquet\nSELECT * FROM wdi_opencsv_gs"
    },
    {
      "cell_type": "code",
      "execution_count": 52,
      "metadata": {
        "autoscroll": "auto"
      },
      "outputs": [],
      "source": "%sh\nhdfs dfs -du -s -h /user/sshaikh/hive/wdi/wdi_opencsv_parquet"
    },
    {
      "cell_type": "code",
      "execution_count": 53,
      "metadata": {
        "autoscroll": "auto"
      },
      "outputs": [],
      "source": "%sh\nhdfs dfs -du -s -h /user/sshaikh/hive/wdi/wdi_opencsv_text"
    },
    {
      "cell_type": "markdown",
      "metadata": {},
      "source": " \nThe filesize of the parquet table is smaller compared to the wdi_opencsv_text because it is storing binary data in a column oreiented way. The column data is orgazined in a way that they are all adjacent which makes for better compression.\n"
    },
    {
      "cell_type": "code",
      "execution_count": 55,
      "metadata": {
        "autoscroll": "auto"
      },
      "outputs": [],
      "source": "\nSELECT count(countryName) FROM wdi_csv_parquet;"
    },
    {
      "cell_type": "code",
      "execution_count": 56,
      "metadata": {
        "autoscroll": "auto"
      },
      "outputs": [],
      "source": "SELECT count(countryName) FROM wdi_opencsv_text"
    },
    {
      "cell_type": "code",
      "execution_count": 57,
      "metadata": {
        "autoscroll": "auto"
      },
      "outputs": [],
      "source": "SELECT indicatorValue AS GDP_growth_value, year, countryname\nFROM wdi_csv_parquet\nWHERE countryname \u003d \"Canada\" AND indicatorname \u003d \"GDP growth (annual %)\" AND year \u003d \"2015\""
    },
    {
      "cell_type": "code",
      "execution_count": 58,
      "metadata": {
        "autoscroll": "auto"
      },
      "outputs": [],
      "source": "SELECT indicatorValue AS GDP_growth_value, year, countryname\nFROM wdi_opencsv_text\nWHERE countryname \u003d \"Canada\" AND indicatorname \u003d \"GDP growth (annual %)\" AND year \u003d \"2015\""
    },
    {
      "cell_type": "markdown",
      "metadata": {},
      "source": " \nComparing the performance of wdi_csv_parquet and wdi_opencsv_text we see that the above queries run faster for the columnar file table than the regular table. The time difference between the count query takes 22 seconds vs. 1 min 42 seconds. The 2015 GDP query took 16 seconds vs. 1 min22 seconds.\n\n## Find highest GDP growth for each country and the year it achieved it.\nRun in both Tez and Spark."
    },
    {
      "cell_type": "code",
      "execution_count": 60,
      "metadata": {
        "autoscroll": "auto"
      },
      "outputs": [],
      "source": "SELECT v.indicatorValue as GDP_growth_value, min(v.year), v.countryName\nFROM(SELECT MAX(indicatorValue) as indicatorValue, countryName\nFROM wdi_csv_parquet\nWHERE indicatorCode \u003d \"NY.GDP.MKTP.KD.ZG\"\nGROUP BY countryName) AS gd, wdi_opencsv_text_view as v\nWHERE v.countryName \u003d gd.countryName AND v.indicatorValue \u003d gd.indicatorValue\nGROUP BY v.countryName, v.indicatorValue\nORDER BY v.countryName\n\n\n"
    },
    {
      "cell_type": "code",
      "execution_count": 61,
      "metadata": {
        "autoscroll": "auto"
      },
      "outputs": [],
      "source": "%spark.sql\nSELECT v.indicatorValue as GDP_growth_value, min(v.year), v.countryName\nFROM(SELECT MAX(indicatorValue) as indicatorValue, countryName\nFROM wdi_csv_parquet\nWHERE indicatorCode \u003d \"NY.GDP.MKTP.KD.ZG\"\nGROUP BY countryName) AS gd, wdi_opencsv_text_view as v\nWHERE v.countryName \u003d gd.countryName AND v.indicatorValue \u003d gd.indicatorValue\nGROUP BY v.countryName, v.indicatorValue\nORDER BY v.countryName"
    },
    {
      "cell_type": "markdown",
      "metadata": {},
      "source": "The query for finding the highest GDP growth was run through both Tez and spark. The execution was faster for Spark (2min21sec) than for Spark (2min51sec). Perhaps Spark benefits from processing this query within the optimized parquet form.\n"
    },
    {
      "cell_type": "markdown",
      "metadata": {},
      "source": "### Find GDP growth (annual %) for each country by year.\n"
    },
    {
      "cell_type": "code",
      "execution_count": 64,
      "metadata": {
        "autoscroll": "auto"
      },
      "outputs": [],
      "source": "SELECT countryName, year, indicatorCode, indicatorValue\nFROM wdi_opencsv_text_view\nWHERE indicatorCode \u003d \"NY.GDP.MKTP.KD.ZG\"\nORDER BY countryName, year\n"
    }
  ]
}